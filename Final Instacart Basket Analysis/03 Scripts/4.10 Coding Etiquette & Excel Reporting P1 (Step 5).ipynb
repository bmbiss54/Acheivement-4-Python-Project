{
 "cells": [
  {
   "cell_type": "markdown",
   "id": "f35a8621",
   "metadata": {},
   "source": [
    "#### Contents"
   ]
  },
  {
   "cell_type": "markdown",
   "id": "e2964722",
   "metadata": {},
   "source": [
    "#### Profiling Customer Data based on Age, Income, Family Status, and Deparment Goods"
   ]
  },
  {
   "cell_type": "markdown",
   "id": "d8385f22",
   "metadata": {},
   "source": [
    "# Part 1 (5)"
   ]
  },
  {
   "cell_type": "markdown",
   "id": "672c7e2d",
   "metadata": {},
   "source": [
    "# Import Libraries"
   ]
  },
  {
   "cell_type": "code",
   "execution_count": 1,
   "id": "ffb6e378",
   "metadata": {},
   "outputs": [],
   "source": [
    "import pandas as pd\n",
    "import numpy as np\n",
    "import os\n",
    "import matplotlib.pyplot as plt\n",
    "import seaborn as sns\n",
    "import scipy"
   ]
  },
  {
   "cell_type": "code",
   "execution_count": 2,
   "id": "40aa225f",
   "metadata": {},
   "outputs": [],
   "source": [
    "# Making Path do data as a string\n",
    "path = r'C:\\Users\\bbissonette\\Documents\\Data Analytics Course\\Acheivement 4\\Instacart Basket Analysis'"
   ]
  },
  {
   "cell_type": "code",
   "execution_count": 3,
   "id": "69c80185",
   "metadata": {},
   "outputs": [],
   "source": [
    "# Importing Orders Products Merged Data Frame\n",
    "final_df = pd.read_pickle(os.path.join(path,'02 Data', 'Prepared Data', 'high_activity_customers.pkl'))"
   ]
  },
  {
   "cell_type": "markdown",
   "id": "7f134836",
   "metadata": {},
   "source": [
    "## Create a profiling variable based on age, income, certain goods in the “department_id” column, and number of dependents. (Step 5)"
   ]
  },
  {
   "cell_type": "markdown",
   "id": "307ea622",
   "metadata": {},
   "source": [
    "### Age Groups"
   ]
  },
  {
   "cell_type": "code",
   "execution_count": 4,
   "id": "cb6b6717",
   "metadata": {},
   "outputs": [
    {
     "data": {
      "text/plain": [
       "count    3.099154e+07\n",
       "mean     4.946796e+01\n",
       "std      1.848522e+01\n",
       "min      1.800000e+01\n",
       "25%      3.300000e+01\n",
       "50%      4.900000e+01\n",
       "75%      6.500000e+01\n",
       "max      8.100000e+01\n",
       "Name: age, dtype: float64"
      ]
     },
     "execution_count": 4,
     "metadata": {},
     "output_type": "execute_result"
    }
   ],
   "source": [
    "final_df['age'].describe()"
   ]
  },
  {
   "cell_type": "code",
   "execution_count": 5,
   "id": "5b0d9352",
   "metadata": {},
   "outputs": [],
   "source": [
    "final_df.loc[final_df['age'] <= 29, 'age_group'] = 'Young Adult'\n",
    "final_df.loc[(final_df['age'] > 29) & (final_df['age'] < 50), 'age_group'] = 'Regular Adult'\n",
    "final_df.loc[(final_df['age'] > 49) & (final_df['age'] < 70), 'age_group'] = 'Middle-Aged Adult'\n",
    "final_df.loc[(final_df['age'] > 69), 'age_group'] = 'Old Adult'"
   ]
  },
  {
   "cell_type": "code",
   "execution_count": 6,
   "id": "d529c7f9",
   "metadata": {},
   "outputs": [
    {
     "data": {
      "text/plain": [
       "Regular Adult        9738888\n",
       "Middle-Aged Adult    9612305\n",
       "Young Adult          5822773\n",
       "Old Adult            5817576\n",
       "Name: age_group, dtype: int64"
      ]
     },
     "execution_count": 6,
     "metadata": {},
     "output_type": "execute_result"
    }
   ],
   "source": [
    "final_df['age_group'].value_counts(dropna = False)"
   ]
  },
  {
   "cell_type": "markdown",
   "id": "d6e20a5e",
   "metadata": {},
   "source": [
    "### Income Groups"
   ]
  },
  {
   "cell_type": "code",
   "execution_count": 7,
   "id": "bcbc1ee1",
   "metadata": {},
   "outputs": [
    {
     "data": {
      "text/plain": [
       "count    3.099154e+07\n",
       "mean     9.967335e+04\n",
       "std      4.313946e+04\n",
       "min      2.590300e+04\n",
       "25%      6.728900e+04\n",
       "50%      9.676500e+04\n",
       "75%      1.281010e+05\n",
       "max      5.939010e+05\n",
       "Name: income, dtype: float64"
      ]
     },
     "execution_count": 7,
     "metadata": {},
     "output_type": "execute_result"
    }
   ],
   "source": [
    "final_df['income'].describe()"
   ]
  },
  {
   "cell_type": "code",
   "execution_count": 8,
   "id": "40685ff6",
   "metadata": {},
   "outputs": [],
   "source": [
    "final_df['income'] = final_df['income'].astype('int64')"
   ]
  },
  {
   "cell_type": "code",
   "execution_count": 9,
   "id": "4423119a",
   "metadata": {},
   "outputs": [],
   "source": [
    "final_df.loc[(final_df['income'] <= 67289), 'income_group'] = 'Low Income'\n",
    "final_df.loc[(final_df['income'] > 67289) & (final_df['income'] <128101), 'income_group'] = \"Middle Income\"\n",
    "final_df.loc[(final_df['income'] >= 128101), 'income_group'] = 'High Income'"
   ]
  },
  {
   "cell_type": "code",
   "execution_count": 10,
   "id": "7cbde272",
   "metadata": {},
   "outputs": [
    {
     "data": {
      "text/plain": [
       "Middle Income    15495569\n",
       "High Income       7748002\n",
       "Low Income        7747971\n",
       "Name: income_group, dtype: int64"
      ]
     },
     "execution_count": 10,
     "metadata": {},
     "output_type": "execute_result"
    }
   ],
   "source": [
    "final_df['income_group'].value_counts(dropna = False)"
   ]
  },
  {
   "cell_type": "markdown",
   "id": "7c76480d",
   "metadata": {},
   "source": [
    "### Deparment_ID Goods Groups"
   ]
  },
  {
   "cell_type": "code",
   "execution_count": 11,
   "id": "ce029531",
   "metadata": {},
   "outputs": [],
   "source": [
    "dept = pd.read_csv(os.path.join(path,'02 Data', 'Prepared Data', 'departments_wrangled.csv'))"
   ]
  },
  {
   "cell_type": "code",
   "execution_count": 12,
   "id": "3d9062d2",
   "metadata": {},
   "outputs": [],
   "source": [
    "dept.rename(columns = {'Unnamed: 0' : 'department_id'}, inplace = True)"
   ]
  },
  {
   "cell_type": "code",
   "execution_count": 24,
   "id": "a7bd0f99",
   "metadata": {},
   "outputs": [
    {
     "data": {
      "text/plain": [
       "count    21.000000\n",
       "mean     11.000000\n",
       "std       6.204837\n",
       "min       1.000000\n",
       "25%       6.000000\n",
       "50%      11.000000\n",
       "75%      16.000000\n",
       "max      21.000000\n",
       "Name: department_id, dtype: float64"
      ]
     },
     "execution_count": 24,
     "metadata": {},
     "output_type": "execute_result"
    }
   ],
   "source": [
    "dept['department_id'].describe()"
   ]
  },
  {
   "cell_type": "code",
   "execution_count": 14,
   "id": "41d49cb2",
   "metadata": {},
   "outputs": [
    {
     "data": {
      "text/plain": [
       "count    3.099154e+07\n",
       "mean     9.924672e+00\n",
       "std      6.282213e+00\n",
       "min      1.000000e+00\n",
       "25%      4.000000e+00\n",
       "50%      9.000000e+00\n",
       "75%      1.600000e+01\n",
       "max      2.100000e+01\n",
       "Name: department_id, dtype: float64"
      ]
     },
     "execution_count": 14,
     "metadata": {},
     "output_type": "execute_result"
    }
   ],
   "source": [
    "final_df['department_id'].describe()"
   ]
  },
  {
   "cell_type": "code",
   "execution_count": 22,
   "id": "bfcf4fa6",
   "metadata": {},
   "outputs": [
    {
     "data": {
      "text/plain": [
       "(30991542, 38)"
      ]
     },
     "execution_count": 22,
     "metadata": {},
     "output_type": "execute_result"
    }
   ],
   "source": [
    "final_df.shape"
   ]
  },
  {
   "cell_type": "code",
   "execution_count": 23,
   "id": "b91aed00",
   "metadata": {},
   "outputs": [
    {
     "data": {
      "text/plain": [
       "(21, 2)"
      ]
     },
     "execution_count": 23,
     "metadata": {},
     "output_type": "execute_result"
    }
   ],
   "source": [
    "dept.shape"
   ]
  },
  {
   "cell_type": "code",
   "execution_count": 26,
   "id": "b8790d9b",
   "metadata": {},
   "outputs": [],
   "source": [
    "final_df = final_df.merge(dept, on = 'department_id')"
   ]
  },
  {
   "cell_type": "code",
   "execution_count": 27,
   "id": "a26c1c86",
   "metadata": {},
   "outputs": [
    {
     "data": {
      "text/html": [
       "<div>\n",
       "<style scoped>\n",
       "    .dataframe tbody tr th:only-of-type {\n",
       "        vertical-align: middle;\n",
       "    }\n",
       "\n",
       "    .dataframe tbody tr th {\n",
       "        vertical-align: top;\n",
       "    }\n",
       "\n",
       "    .dataframe thead th {\n",
       "        text-align: right;\n",
       "    }\n",
       "</style>\n",
       "<table border=\"1\" class=\"dataframe\">\n",
       "  <thead>\n",
       "    <tr style=\"text-align: right;\">\n",
       "      <th></th>\n",
       "      <th>order_id</th>\n",
       "      <th>user_id</th>\n",
       "      <th>eval_set</th>\n",
       "      <th>order_number</th>\n",
       "      <th>orders_day_of_week</th>\n",
       "      <th>order_hour</th>\n",
       "      <th>days_since_prior_order</th>\n",
       "      <th>product_id</th>\n",
       "      <th>add_to_cart_order</th>\n",
       "      <th>reordered</th>\n",
       "      <th>...</th>\n",
       "      <th>age</th>\n",
       "      <th>date_joined</th>\n",
       "      <th>number_of_dependents</th>\n",
       "      <th>marital_status</th>\n",
       "      <th>income</th>\n",
       "      <th>region</th>\n",
       "      <th>activity_flag</th>\n",
       "      <th>age_group</th>\n",
       "      <th>income_group</th>\n",
       "      <th>department</th>\n",
       "    </tr>\n",
       "  </thead>\n",
       "  <tbody>\n",
       "    <tr>\n",
       "      <th>0</th>\n",
       "      <td>2539329</td>\n",
       "      <td>1</td>\n",
       "      <td>prior</td>\n",
       "      <td>1</td>\n",
       "      <td>2</td>\n",
       "      <td>8</td>\n",
       "      <td>NaN</td>\n",
       "      <td>196</td>\n",
       "      <td>1</td>\n",
       "      <td>0</td>\n",
       "      <td>...</td>\n",
       "      <td>31</td>\n",
       "      <td>2/17/2019</td>\n",
       "      <td>3</td>\n",
       "      <td>married</td>\n",
       "      <td>40423</td>\n",
       "      <td>South</td>\n",
       "      <td>high-activity customer</td>\n",
       "      <td>Regular Adult</td>\n",
       "      <td>Low Income</td>\n",
       "      <td>beverages</td>\n",
       "    </tr>\n",
       "    <tr>\n",
       "      <th>1</th>\n",
       "      <td>2398795</td>\n",
       "      <td>1</td>\n",
       "      <td>prior</td>\n",
       "      <td>2</td>\n",
       "      <td>3</td>\n",
       "      <td>7</td>\n",
       "      <td>15.0</td>\n",
       "      <td>196</td>\n",
       "      <td>1</td>\n",
       "      <td>1</td>\n",
       "      <td>...</td>\n",
       "      <td>31</td>\n",
       "      <td>2/17/2019</td>\n",
       "      <td>3</td>\n",
       "      <td>married</td>\n",
       "      <td>40423</td>\n",
       "      <td>South</td>\n",
       "      <td>high-activity customer</td>\n",
       "      <td>Regular Adult</td>\n",
       "      <td>Low Income</td>\n",
       "      <td>beverages</td>\n",
       "    </tr>\n",
       "    <tr>\n",
       "      <th>2</th>\n",
       "      <td>473747</td>\n",
       "      <td>1</td>\n",
       "      <td>prior</td>\n",
       "      <td>3</td>\n",
       "      <td>3</td>\n",
       "      <td>12</td>\n",
       "      <td>21.0</td>\n",
       "      <td>196</td>\n",
       "      <td>1</td>\n",
       "      <td>1</td>\n",
       "      <td>...</td>\n",
       "      <td>31</td>\n",
       "      <td>2/17/2019</td>\n",
       "      <td>3</td>\n",
       "      <td>married</td>\n",
       "      <td>40423</td>\n",
       "      <td>South</td>\n",
       "      <td>high-activity customer</td>\n",
       "      <td>Regular Adult</td>\n",
       "      <td>Low Income</td>\n",
       "      <td>beverages</td>\n",
       "    </tr>\n",
       "    <tr>\n",
       "      <th>3</th>\n",
       "      <td>2254736</td>\n",
       "      <td>1</td>\n",
       "      <td>prior</td>\n",
       "      <td>4</td>\n",
       "      <td>4</td>\n",
       "      <td>7</td>\n",
       "      <td>29.0</td>\n",
       "      <td>196</td>\n",
       "      <td>1</td>\n",
       "      <td>1</td>\n",
       "      <td>...</td>\n",
       "      <td>31</td>\n",
       "      <td>2/17/2019</td>\n",
       "      <td>3</td>\n",
       "      <td>married</td>\n",
       "      <td>40423</td>\n",
       "      <td>South</td>\n",
       "      <td>high-activity customer</td>\n",
       "      <td>Regular Adult</td>\n",
       "      <td>Low Income</td>\n",
       "      <td>beverages</td>\n",
       "    </tr>\n",
       "    <tr>\n",
       "      <th>4</th>\n",
       "      <td>431534</td>\n",
       "      <td>1</td>\n",
       "      <td>prior</td>\n",
       "      <td>5</td>\n",
       "      <td>4</td>\n",
       "      <td>15</td>\n",
       "      <td>28.0</td>\n",
       "      <td>196</td>\n",
       "      <td>1</td>\n",
       "      <td>1</td>\n",
       "      <td>...</td>\n",
       "      <td>31</td>\n",
       "      <td>2/17/2019</td>\n",
       "      <td>3</td>\n",
       "      <td>married</td>\n",
       "      <td>40423</td>\n",
       "      <td>South</td>\n",
       "      <td>high-activity customer</td>\n",
       "      <td>Regular Adult</td>\n",
       "      <td>Low Income</td>\n",
       "      <td>beverages</td>\n",
       "    </tr>\n",
       "  </tbody>\n",
       "</table>\n",
       "<p>5 rows × 39 columns</p>\n",
       "</div>"
      ],
      "text/plain": [
       "   order_id  user_id eval_set  order_number  orders_day_of_week  order_hour  \\\n",
       "0   2539329        1    prior             1                   2           8   \n",
       "1   2398795        1    prior             2                   3           7   \n",
       "2    473747        1    prior             3                   3          12   \n",
       "3   2254736        1    prior             4                   4           7   \n",
       "4    431534        1    prior             5                   4          15   \n",
       "\n",
       "   days_since_prior_order  product_id  add_to_cart_order  reordered  ...  age  \\\n",
       "0                     NaN         196                  1          0  ...   31   \n",
       "1                    15.0         196                  1          1  ...   31   \n",
       "2                    21.0         196                  1          1  ...   31   \n",
       "3                    29.0         196                  1          1  ...   31   \n",
       "4                    28.0         196                  1          1  ...   31   \n",
       "\n",
       "  date_joined  number_of_dependents  marital_status  income region  \\\n",
       "0   2/17/2019                     3         married   40423  South   \n",
       "1   2/17/2019                     3         married   40423  South   \n",
       "2   2/17/2019                     3         married   40423  South   \n",
       "3   2/17/2019                     3         married   40423  South   \n",
       "4   2/17/2019                     3         married   40423  South   \n",
       "\n",
       "            activity_flag      age_group income_group department  \n",
       "0  high-activity customer  Regular Adult   Low Income  beverages  \n",
       "1  high-activity customer  Regular Adult   Low Income  beverages  \n",
       "2  high-activity customer  Regular Adult   Low Income  beverages  \n",
       "3  high-activity customer  Regular Adult   Low Income  beverages  \n",
       "4  high-activity customer  Regular Adult   Low Income  beverages  \n",
       "\n",
       "[5 rows x 39 columns]"
      ]
     },
     "execution_count": 27,
     "metadata": {},
     "output_type": "execute_result"
    }
   ],
   "source": [
    "final_df.head()"
   ]
  },
  {
   "cell_type": "markdown",
   "id": "af895c09",
   "metadata": {},
   "source": [
    "### Number of Dependents Groups"
   ]
  },
  {
   "cell_type": "code",
   "execution_count": 29,
   "id": "2903bf75",
   "metadata": {},
   "outputs": [
    {
     "data": {
      "text/plain": [
       "count    3.099154e+07\n",
       "mean     1.501803e+00\n",
       "std      1.118901e+00\n",
       "min      0.000000e+00\n",
       "25%      1.000000e+00\n",
       "50%      2.000000e+00\n",
       "75%      3.000000e+00\n",
       "max      3.000000e+00\n",
       "Name: number_of_dependents, dtype: float64"
      ]
     },
     "execution_count": 29,
     "metadata": {},
     "output_type": "execute_result"
    }
   ],
   "source": [
    "final_df['number_of_dependents'].describe()"
   ]
  },
  {
   "cell_type": "code",
   "execution_count": 31,
   "id": "222b6b89",
   "metadata": {},
   "outputs": [],
   "source": [
    "final_df.loc[(final_df['number_of_dependents'] > 0), 'dependents_group'] = 'Has Dependents'\n",
    "final_df.loc[(final_df['number_of_dependents'] == 0), 'dependents_group'] = 'No Dependents'"
   ]
  },
  {
   "cell_type": "code",
   "execution_count": 34,
   "id": "bc4e2074",
   "metadata": {},
   "outputs": [
    {
     "data": {
      "text/html": [
       "<div>\n",
       "<style scoped>\n",
       "    .dataframe tbody tr th:only-of-type {\n",
       "        vertical-align: middle;\n",
       "    }\n",
       "\n",
       "    .dataframe tbody tr th {\n",
       "        vertical-align: top;\n",
       "    }\n",
       "\n",
       "    .dataframe thead th {\n",
       "        text-align: right;\n",
       "    }\n",
       "</style>\n",
       "<table border=\"1\" class=\"dataframe\">\n",
       "  <thead>\n",
       "    <tr style=\"text-align: right;\">\n",
       "      <th></th>\n",
       "      <th>order_id</th>\n",
       "      <th>user_id</th>\n",
       "      <th>eval_set</th>\n",
       "      <th>order_number</th>\n",
       "      <th>orders_day_of_week</th>\n",
       "      <th>order_hour</th>\n",
       "      <th>days_since_prior_order</th>\n",
       "      <th>product_id</th>\n",
       "      <th>add_to_cart_order</th>\n",
       "      <th>reordered</th>\n",
       "      <th>...</th>\n",
       "      <th>date_joined</th>\n",
       "      <th>number_of_dependents</th>\n",
       "      <th>marital_status</th>\n",
       "      <th>income</th>\n",
       "      <th>region</th>\n",
       "      <th>activity_flag</th>\n",
       "      <th>age_group</th>\n",
       "      <th>income_group</th>\n",
       "      <th>department</th>\n",
       "      <th>dependents_group</th>\n",
       "    </tr>\n",
       "  </thead>\n",
       "  <tbody>\n",
       "    <tr>\n",
       "      <th>0</th>\n",
       "      <td>2539329</td>\n",
       "      <td>1</td>\n",
       "      <td>prior</td>\n",
       "      <td>1</td>\n",
       "      <td>2</td>\n",
       "      <td>8</td>\n",
       "      <td>NaN</td>\n",
       "      <td>196</td>\n",
       "      <td>1</td>\n",
       "      <td>0</td>\n",
       "      <td>...</td>\n",
       "      <td>2/17/2019</td>\n",
       "      <td>3</td>\n",
       "      <td>married</td>\n",
       "      <td>40423</td>\n",
       "      <td>South</td>\n",
       "      <td>high-activity customer</td>\n",
       "      <td>Regular Adult</td>\n",
       "      <td>Low Income</td>\n",
       "      <td>beverages</td>\n",
       "      <td>Has Dependents</td>\n",
       "    </tr>\n",
       "    <tr>\n",
       "      <th>1</th>\n",
       "      <td>2398795</td>\n",
       "      <td>1</td>\n",
       "      <td>prior</td>\n",
       "      <td>2</td>\n",
       "      <td>3</td>\n",
       "      <td>7</td>\n",
       "      <td>15.0</td>\n",
       "      <td>196</td>\n",
       "      <td>1</td>\n",
       "      <td>1</td>\n",
       "      <td>...</td>\n",
       "      <td>2/17/2019</td>\n",
       "      <td>3</td>\n",
       "      <td>married</td>\n",
       "      <td>40423</td>\n",
       "      <td>South</td>\n",
       "      <td>high-activity customer</td>\n",
       "      <td>Regular Adult</td>\n",
       "      <td>Low Income</td>\n",
       "      <td>beverages</td>\n",
       "      <td>Has Dependents</td>\n",
       "    </tr>\n",
       "    <tr>\n",
       "      <th>2</th>\n",
       "      <td>473747</td>\n",
       "      <td>1</td>\n",
       "      <td>prior</td>\n",
       "      <td>3</td>\n",
       "      <td>3</td>\n",
       "      <td>12</td>\n",
       "      <td>21.0</td>\n",
       "      <td>196</td>\n",
       "      <td>1</td>\n",
       "      <td>1</td>\n",
       "      <td>...</td>\n",
       "      <td>2/17/2019</td>\n",
       "      <td>3</td>\n",
       "      <td>married</td>\n",
       "      <td>40423</td>\n",
       "      <td>South</td>\n",
       "      <td>high-activity customer</td>\n",
       "      <td>Regular Adult</td>\n",
       "      <td>Low Income</td>\n",
       "      <td>beverages</td>\n",
       "      <td>Has Dependents</td>\n",
       "    </tr>\n",
       "    <tr>\n",
       "      <th>3</th>\n",
       "      <td>2254736</td>\n",
       "      <td>1</td>\n",
       "      <td>prior</td>\n",
       "      <td>4</td>\n",
       "      <td>4</td>\n",
       "      <td>7</td>\n",
       "      <td>29.0</td>\n",
       "      <td>196</td>\n",
       "      <td>1</td>\n",
       "      <td>1</td>\n",
       "      <td>...</td>\n",
       "      <td>2/17/2019</td>\n",
       "      <td>3</td>\n",
       "      <td>married</td>\n",
       "      <td>40423</td>\n",
       "      <td>South</td>\n",
       "      <td>high-activity customer</td>\n",
       "      <td>Regular Adult</td>\n",
       "      <td>Low Income</td>\n",
       "      <td>beverages</td>\n",
       "      <td>Has Dependents</td>\n",
       "    </tr>\n",
       "    <tr>\n",
       "      <th>4</th>\n",
       "      <td>431534</td>\n",
       "      <td>1</td>\n",
       "      <td>prior</td>\n",
       "      <td>5</td>\n",
       "      <td>4</td>\n",
       "      <td>15</td>\n",
       "      <td>28.0</td>\n",
       "      <td>196</td>\n",
       "      <td>1</td>\n",
       "      <td>1</td>\n",
       "      <td>...</td>\n",
       "      <td>2/17/2019</td>\n",
       "      <td>3</td>\n",
       "      <td>married</td>\n",
       "      <td>40423</td>\n",
       "      <td>South</td>\n",
       "      <td>high-activity customer</td>\n",
       "      <td>Regular Adult</td>\n",
       "      <td>Low Income</td>\n",
       "      <td>beverages</td>\n",
       "      <td>Has Dependents</td>\n",
       "    </tr>\n",
       "  </tbody>\n",
       "</table>\n",
       "<p>5 rows × 40 columns</p>\n",
       "</div>"
      ],
      "text/plain": [
       "   order_id  user_id eval_set  order_number  orders_day_of_week  order_hour  \\\n",
       "0   2539329        1    prior             1                   2           8   \n",
       "1   2398795        1    prior             2                   3           7   \n",
       "2    473747        1    prior             3                   3          12   \n",
       "3   2254736        1    prior             4                   4           7   \n",
       "4    431534        1    prior             5                   4          15   \n",
       "\n",
       "   days_since_prior_order  product_id  add_to_cart_order  reordered  ...  \\\n",
       "0                     NaN         196                  1          0  ...   \n",
       "1                    15.0         196                  1          1  ...   \n",
       "2                    21.0         196                  1          1  ...   \n",
       "3                    29.0         196                  1          1  ...   \n",
       "4                    28.0         196                  1          1  ...   \n",
       "\n",
       "   date_joined number_of_dependents  marital_status  income  region  \\\n",
       "0    2/17/2019                    3         married   40423   South   \n",
       "1    2/17/2019                    3         married   40423   South   \n",
       "2    2/17/2019                    3         married   40423   South   \n",
       "3    2/17/2019                    3         married   40423   South   \n",
       "4    2/17/2019                    3         married   40423   South   \n",
       "\n",
       "            activity_flag      age_group income_group department  \\\n",
       "0  high-activity customer  Regular Adult   Low Income  beverages   \n",
       "1  high-activity customer  Regular Adult   Low Income  beverages   \n",
       "2  high-activity customer  Regular Adult   Low Income  beverages   \n",
       "3  high-activity customer  Regular Adult   Low Income  beverages   \n",
       "4  high-activity customer  Regular Adult   Low Income  beverages   \n",
       "\n",
       "  dependents_group  \n",
       "0   Has Dependents  \n",
       "1   Has Dependents  \n",
       "2   Has Dependents  \n",
       "3   Has Dependents  \n",
       "4   Has Dependents  \n",
       "\n",
       "[5 rows x 40 columns]"
      ]
     },
     "execution_count": 34,
     "metadata": {},
     "output_type": "execute_result"
    }
   ],
   "source": [
    "final_df.head()"
   ]
  },
  {
   "cell_type": "markdown",
   "id": "bbe6da94",
   "metadata": {},
   "source": [
    "### Creating Family Profiles"
   ]
  },
  {
   "cell_type": "code",
   "execution_count": 35,
   "id": "6c7a5597",
   "metadata": {},
   "outputs": [
    {
     "data": {
      "text/plain": [
       "married                             21762270\n",
       "single                               5099036\n",
       "divorced/widowed                     2647661\n",
       "living with parents and siblings     1482575\n",
       "Name: marital_status, dtype: int64"
      ]
     },
     "execution_count": 35,
     "metadata": {},
     "output_type": "execute_result"
    }
   ],
   "source": [
    "final_df['marital_status'].value_counts(dropna = False)"
   ]
  },
  {
   "cell_type": "code",
   "execution_count": 38,
   "id": "723582c0",
   "metadata": {},
   "outputs": [
    {
     "data": {
      "text/plain": [
       "Male      15600160\n",
       "Female    15391382\n",
       "Name: gender, dtype: int64"
      ]
     },
     "execution_count": 38,
     "metadata": {},
     "output_type": "execute_result"
    }
   ],
   "source": [
    "final_df['gender'].value_counts(dropna = False)"
   ]
  },
  {
   "cell_type": "code",
   "execution_count": 41,
   "id": "12e7d336",
   "metadata": {},
   "outputs": [],
   "source": [
    "final_df.loc[(final_df['marital_status'].isin(['single','living with parents and siblings','divorced/widowed'])) & (final_df['dependents_group'] == 'Has Dependents') & (final_df['gender'] == 'Male'), 'family_profile'] = 'single male has children'\n",
    "final_df.loc[(final_df['marital_status'].isin(['single','living with parents and siblings','divorced/widowed'])) & (final_df['dependents_group'] == 'Has Dependents') & (final_df['gender'] == 'Female'), 'family_profile'] = 'single female has children'\n",
    "final_df.loc[(final_df['marital_status'].isin(['single','living with parents and siblings','divorced/widowed'])) & (final_df['dependents_group'] == 'No Dependents') & (final_df['gender'] == 'Male'), 'family_profile'] = 'single male no children'\n",
    "final_df.loc[(final_df['marital_status'].isin(['single','living with parents and siblings','divorced/widowed'])) & (final_df['dependents_group'] == 'No Dependents') & (final_df['gender'] == 'Female'), 'family_profile'] = 'single female no children'\n",
    "final_df.loc[(final_df['marital_status'] == 'married') & (final_df['dependents_group'] == 'Has Dependents') & (final_df['gender'] == 'Male'), 'family_profile'] = 'married male with children'\n",
    "final_df.loc[(final_df['marital_status'] == 'married') & (final_df['dependents_group'] == 'No Dependents') & (final_df['gender'] == 'Male'), 'family_profile'] = 'married male no children'\n",
    "final_df.loc[(final_df['marital_status'] == 'married') & (final_df['dependents_group'] == 'Has Dependents') & (final_df['gender'] == 'Female'), 'family_profile'] = 'married female with children'\n",
    "final_df.loc[(final_df['marital_status'] == 'married') & (final_df['dependents_group'] == 'No Dependents') & (final_df['gender'] == 'Female'), 'family_profile'] = 'married female no children'"
   ]
  },
  {
   "cell_type": "code",
   "execution_count": 42,
   "id": "48c26129",
   "metadata": {},
   "outputs": [
    {
     "data": {
      "text/plain": [
       "married male with children      10957082\n",
       "married female with children    10805188\n",
       "single male no children          3884754\n",
       "single female no children        3861943\n",
       "single male has children          758324\n",
       "single female has children        724251\n",
       "Name: family_profile, dtype: int64"
      ]
     },
     "execution_count": 42,
     "metadata": {},
     "output_type": "execute_result"
    }
   ],
   "source": [
    "final_df['family_profile'].value_counts(dropna = False)"
   ]
  },
  {
   "cell_type": "code",
   "execution_count": 43,
   "id": "ba9f9d98",
   "metadata": {},
   "outputs": [
    {
     "data": {
      "text/html": [
       "<div>\n",
       "<style scoped>\n",
       "    .dataframe tbody tr th:only-of-type {\n",
       "        vertical-align: middle;\n",
       "    }\n",
       "\n",
       "    .dataframe tbody tr th {\n",
       "        vertical-align: top;\n",
       "    }\n",
       "\n",
       "    .dataframe thead th {\n",
       "        text-align: right;\n",
       "    }\n",
       "</style>\n",
       "<table border=\"1\" class=\"dataframe\">\n",
       "  <thead>\n",
       "    <tr style=\"text-align: right;\">\n",
       "      <th></th>\n",
       "      <th>order_id</th>\n",
       "      <th>user_id</th>\n",
       "      <th>eval_set</th>\n",
       "      <th>order_number</th>\n",
       "      <th>orders_day_of_week</th>\n",
       "      <th>order_hour</th>\n",
       "      <th>days_since_prior_order</th>\n",
       "      <th>product_id</th>\n",
       "      <th>add_to_cart_order</th>\n",
       "      <th>reordered</th>\n",
       "      <th>...</th>\n",
       "      <th>number_of_dependents</th>\n",
       "      <th>marital_status</th>\n",
       "      <th>income</th>\n",
       "      <th>region</th>\n",
       "      <th>activity_flag</th>\n",
       "      <th>age_group</th>\n",
       "      <th>income_group</th>\n",
       "      <th>department</th>\n",
       "      <th>dependents_group</th>\n",
       "      <th>family_profile</th>\n",
       "    </tr>\n",
       "  </thead>\n",
       "  <tbody>\n",
       "    <tr>\n",
       "      <th>0</th>\n",
       "      <td>2539329</td>\n",
       "      <td>1</td>\n",
       "      <td>prior</td>\n",
       "      <td>1</td>\n",
       "      <td>2</td>\n",
       "      <td>8</td>\n",
       "      <td>NaN</td>\n",
       "      <td>196</td>\n",
       "      <td>1</td>\n",
       "      <td>0</td>\n",
       "      <td>...</td>\n",
       "      <td>3</td>\n",
       "      <td>married</td>\n",
       "      <td>40423</td>\n",
       "      <td>South</td>\n",
       "      <td>high-activity customer</td>\n",
       "      <td>Regular Adult</td>\n",
       "      <td>Low Income</td>\n",
       "      <td>beverages</td>\n",
       "      <td>Has Dependents</td>\n",
       "      <td>married female with children</td>\n",
       "    </tr>\n",
       "    <tr>\n",
       "      <th>1</th>\n",
       "      <td>2398795</td>\n",
       "      <td>1</td>\n",
       "      <td>prior</td>\n",
       "      <td>2</td>\n",
       "      <td>3</td>\n",
       "      <td>7</td>\n",
       "      <td>15.0</td>\n",
       "      <td>196</td>\n",
       "      <td>1</td>\n",
       "      <td>1</td>\n",
       "      <td>...</td>\n",
       "      <td>3</td>\n",
       "      <td>married</td>\n",
       "      <td>40423</td>\n",
       "      <td>South</td>\n",
       "      <td>high-activity customer</td>\n",
       "      <td>Regular Adult</td>\n",
       "      <td>Low Income</td>\n",
       "      <td>beverages</td>\n",
       "      <td>Has Dependents</td>\n",
       "      <td>married female with children</td>\n",
       "    </tr>\n",
       "    <tr>\n",
       "      <th>2</th>\n",
       "      <td>473747</td>\n",
       "      <td>1</td>\n",
       "      <td>prior</td>\n",
       "      <td>3</td>\n",
       "      <td>3</td>\n",
       "      <td>12</td>\n",
       "      <td>21.0</td>\n",
       "      <td>196</td>\n",
       "      <td>1</td>\n",
       "      <td>1</td>\n",
       "      <td>...</td>\n",
       "      <td>3</td>\n",
       "      <td>married</td>\n",
       "      <td>40423</td>\n",
       "      <td>South</td>\n",
       "      <td>high-activity customer</td>\n",
       "      <td>Regular Adult</td>\n",
       "      <td>Low Income</td>\n",
       "      <td>beverages</td>\n",
       "      <td>Has Dependents</td>\n",
       "      <td>married female with children</td>\n",
       "    </tr>\n",
       "    <tr>\n",
       "      <th>3</th>\n",
       "      <td>2254736</td>\n",
       "      <td>1</td>\n",
       "      <td>prior</td>\n",
       "      <td>4</td>\n",
       "      <td>4</td>\n",
       "      <td>7</td>\n",
       "      <td>29.0</td>\n",
       "      <td>196</td>\n",
       "      <td>1</td>\n",
       "      <td>1</td>\n",
       "      <td>...</td>\n",
       "      <td>3</td>\n",
       "      <td>married</td>\n",
       "      <td>40423</td>\n",
       "      <td>South</td>\n",
       "      <td>high-activity customer</td>\n",
       "      <td>Regular Adult</td>\n",
       "      <td>Low Income</td>\n",
       "      <td>beverages</td>\n",
       "      <td>Has Dependents</td>\n",
       "      <td>married female with children</td>\n",
       "    </tr>\n",
       "    <tr>\n",
       "      <th>4</th>\n",
       "      <td>431534</td>\n",
       "      <td>1</td>\n",
       "      <td>prior</td>\n",
       "      <td>5</td>\n",
       "      <td>4</td>\n",
       "      <td>15</td>\n",
       "      <td>28.0</td>\n",
       "      <td>196</td>\n",
       "      <td>1</td>\n",
       "      <td>1</td>\n",
       "      <td>...</td>\n",
       "      <td>3</td>\n",
       "      <td>married</td>\n",
       "      <td>40423</td>\n",
       "      <td>South</td>\n",
       "      <td>high-activity customer</td>\n",
       "      <td>Regular Adult</td>\n",
       "      <td>Low Income</td>\n",
       "      <td>beverages</td>\n",
       "      <td>Has Dependents</td>\n",
       "      <td>married female with children</td>\n",
       "    </tr>\n",
       "  </tbody>\n",
       "</table>\n",
       "<p>5 rows × 41 columns</p>\n",
       "</div>"
      ],
      "text/plain": [
       "   order_id  user_id eval_set  order_number  orders_day_of_week  order_hour  \\\n",
       "0   2539329        1    prior             1                   2           8   \n",
       "1   2398795        1    prior             2                   3           7   \n",
       "2    473747        1    prior             3                   3          12   \n",
       "3   2254736        1    prior             4                   4           7   \n",
       "4    431534        1    prior             5                   4          15   \n",
       "\n",
       "   days_since_prior_order  product_id  add_to_cart_order  reordered  ...  \\\n",
       "0                     NaN         196                  1          0  ...   \n",
       "1                    15.0         196                  1          1  ...   \n",
       "2                    21.0         196                  1          1  ...   \n",
       "3                    29.0         196                  1          1  ...   \n",
       "4                    28.0         196                  1          1  ...   \n",
       "\n",
       "   number_of_dependents marital_status  income  region  \\\n",
       "0                     3        married   40423   South   \n",
       "1                     3        married   40423   South   \n",
       "2                     3        married   40423   South   \n",
       "3                     3        married   40423   South   \n",
       "4                     3        married   40423   South   \n",
       "\n",
       "            activity_flag      age_group income_group department  \\\n",
       "0  high-activity customer  Regular Adult   Low Income  beverages   \n",
       "1  high-activity customer  Regular Adult   Low Income  beverages   \n",
       "2  high-activity customer  Regular Adult   Low Income  beverages   \n",
       "3  high-activity customer  Regular Adult   Low Income  beverages   \n",
       "4  high-activity customer  Regular Adult   Low Income  beverages   \n",
       "\n",
       "  dependents_group                family_profile  \n",
       "0   Has Dependents  married female with children  \n",
       "1   Has Dependents  married female with children  \n",
       "2   Has Dependents  married female with children  \n",
       "3   Has Dependents  married female with children  \n",
       "4   Has Dependents  married female with children  \n",
       "\n",
       "[5 rows x 41 columns]"
      ]
     },
     "execution_count": 43,
     "metadata": {},
     "output_type": "execute_result"
    }
   ],
   "source": [
    "final_df.head()"
   ]
  },
  {
   "cell_type": "code",
   "execution_count": 44,
   "id": "7f85de1a",
   "metadata": {},
   "outputs": [],
   "source": [
    "final_df.to_pickle(os.path.join(path, '02 Data', 'Prepared Data', 'high_activity_orders_products_customers_profiled.pkl'))"
   ]
  },
  {
   "cell_type": "code",
   "execution_count": null,
   "id": "8310bfd3",
   "metadata": {},
   "outputs": [],
   "source": []
  }
 ],
 "metadata": {
  "kernelspec": {
   "display_name": "Python 3 (ipykernel)",
   "language": "python",
   "name": "python3"
  },
  "language_info": {
   "codemirror_mode": {
    "name": "ipython",
    "version": 3
   },
   "file_extension": ".py",
   "mimetype": "text/x-python",
   "name": "python",
   "nbconvert_exporter": "python",
   "pygments_lexer": "ipython3",
   "version": "3.10.9"
  }
 },
 "nbformat": 4,
 "nbformat_minor": 5
}
