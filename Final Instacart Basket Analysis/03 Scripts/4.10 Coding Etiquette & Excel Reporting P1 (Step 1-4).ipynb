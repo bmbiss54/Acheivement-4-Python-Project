{
 "cells": [
  {
   "cell_type": "markdown",
   "id": "207acfc9",
   "metadata": {},
   "source": [
    "#### Contents"
   ]
  },
  {
   "cell_type": "markdown",
   "id": "6a24f157",
   "metadata": {},
   "source": [
    "#### Addressing Security Concerns with Data"
   ]
  },
  {
   "cell_type": "markdown",
   "id": "66ab65c1",
   "metadata": {},
   "source": [
    "#### Segmenting Data Based on Geographical Regions"
   ]
  },
  {
   "cell_type": "markdown",
   "id": "bb03f705",
   "metadata": {},
   "source": [
    "#### Creating Exclusion Flags For more a Better Group of Results"
   ]
  },
  {
   "cell_type": "markdown",
   "id": "d8b43efb",
   "metadata": {},
   "source": [
    "# Part 1 (1-4)"
   ]
  },
  {
   "cell_type": "markdown",
   "id": "6fd704da",
   "metadata": {},
   "source": [
    "## Importing Libraries"
   ]
  },
  {
   "cell_type": "code",
   "execution_count": 1,
   "id": "c7e2cce8",
   "metadata": {},
   "outputs": [],
   "source": [
    "import pandas as pd\n",
    "import numpy as np\n",
    "import os\n",
    "import matplotlib.pyplot as plt\n",
    "import seaborn as sns\n",
    "import scipy"
   ]
  },
  {
   "cell_type": "code",
   "execution_count": 2,
   "id": "8f090f6b",
   "metadata": {},
   "outputs": [],
   "source": [
    "# Making Path do data as a string\n",
    "path = r'C:\\Users\\bbissonette\\Documents\\Data Analytics Course\\Acheivement 4\\Instacart Basket Analysis'"
   ]
  },
  {
   "cell_type": "code",
   "execution_count": 3,
   "id": "8f2426c4",
   "metadata": {},
   "outputs": [],
   "source": [
    "# Importing Orders Products Merged Data Frame\n",
    "ords_prods_custs = pd.read_pickle(os.path.join(path,'02 Data', 'Prepared Data', 'orders_products_customers_merged.pkl'))"
   ]
  },
  {
   "cell_type": "markdown",
   "id": "adc8ac59",
   "metadata": {},
   "source": [
    "## Security Implication (Step 2)"
   ]
  },
  {
   "cell_type": "code",
   "execution_count": 4,
   "id": "e228f42d",
   "metadata": {},
   "outputs": [
    {
     "name": "stdout",
     "output_type": "stream",
     "text": [
      "<class 'pandas.core.frame.DataFrame'>\n",
      "Int64Index: 32433030 entries, 0 to 32433029\n",
      "Data columns (total 36 columns):\n",
      " #   Column                  Dtype   \n",
      "---  ------                  -----   \n",
      " 0   order_id                int64   \n",
      " 1   user_id                 int64   \n",
      " 2   eval_set                object  \n",
      " 3   order_number            int64   \n",
      " 4   orders_day_of_week      int64   \n",
      " 5   order_hour              int64   \n",
      " 6   days_since_prior_order  float64 \n",
      " 7   product_id              int64   \n",
      " 8   add_to_cart_order       int64   \n",
      " 9   reordered               int64   \n",
      " 10  Unnamed: 0_y            int64   \n",
      " 11  product_name            object  \n",
      " 12  aisle_id                int64   \n",
      " 13  department_id           int64   \n",
      " 14  prices                  float64 \n",
      " 15  _merge                  category\n",
      " 16   price_range_loc        object  \n",
      " 17  price_range_loc         object  \n",
      " 18  busiest_day             object  \n",
      " 19  busiest_days            object  \n",
      " 20  busiest_period_of_day   object  \n",
      " 21  max_order               int64   \n",
      " 22  loyalty_flag            object  \n",
      " 23  average_price           float64 \n",
      " 24  spending_flag           object  \n",
      " 25  median_days             float64 \n",
      " 26  frequency_flag          object  \n",
      " 27  first_name              object  \n",
      " 28  last_name               object  \n",
      " 29  gender                  object  \n",
      " 30  state                   object  \n",
      " 31  age                     int64   \n",
      " 32  date_joined             object  \n",
      " 33  number_of_dependents    int64   \n",
      " 34  marital_status          object  \n",
      " 35  income                  int64   \n",
      "dtypes: category(1), float64(4), int64(15), object(16)\n",
      "memory usage: 8.7+ GB\n"
     ]
    }
   ],
   "source": [
    "ords_prods_custs.info()"
   ]
  },
  {
   "cell_type": "markdown",
   "id": "fe008838",
   "metadata": {},
   "source": [
    "There are some security issues within this data set such as the first and last name of individuals with their income, age, gender, marital status, the state they reside in, and their number of dependents. Removing the identifier such as the first and last name would disassociate the other value statistical elements and sure up the PII security."
   ]
  },
  {
   "cell_type": "code",
   "execution_count": 5,
   "id": "2e45ed24",
   "metadata": {},
   "outputs": [],
   "source": [
    "# Dropping the first and last name columns from the data set and continuing analysis\n",
    "pii_security = ['first_name','last_name']"
   ]
  },
  {
   "cell_type": "code",
   "execution_count": 6,
   "id": "b9d6e41b",
   "metadata": {},
   "outputs": [],
   "source": [
    "ords_prods_custs = ords_prods_custs.drop(columns=pii_security)"
   ]
  },
  {
   "cell_type": "code",
   "execution_count": 7,
   "id": "794a65b6",
   "metadata": {},
   "outputs": [
    {
     "data": {
      "text/html": [
       "<div>\n",
       "<style scoped>\n",
       "    .dataframe tbody tr th:only-of-type {\n",
       "        vertical-align: middle;\n",
       "    }\n",
       "\n",
       "    .dataframe tbody tr th {\n",
       "        vertical-align: top;\n",
       "    }\n",
       "\n",
       "    .dataframe thead th {\n",
       "        text-align: right;\n",
       "    }\n",
       "</style>\n",
       "<table border=\"1\" class=\"dataframe\">\n",
       "  <thead>\n",
       "    <tr style=\"text-align: right;\">\n",
       "      <th></th>\n",
       "      <th>order_id</th>\n",
       "      <th>user_id</th>\n",
       "      <th>eval_set</th>\n",
       "      <th>order_number</th>\n",
       "      <th>orders_day_of_week</th>\n",
       "      <th>order_hour</th>\n",
       "      <th>days_since_prior_order</th>\n",
       "      <th>product_id</th>\n",
       "      <th>add_to_cart_order</th>\n",
       "      <th>reordered</th>\n",
       "      <th>...</th>\n",
       "      <th>spending_flag</th>\n",
       "      <th>median_days</th>\n",
       "      <th>frequency_flag</th>\n",
       "      <th>gender</th>\n",
       "      <th>state</th>\n",
       "      <th>age</th>\n",
       "      <th>date_joined</th>\n",
       "      <th>number_of_dependents</th>\n",
       "      <th>marital_status</th>\n",
       "      <th>income</th>\n",
       "    </tr>\n",
       "  </thead>\n",
       "  <tbody>\n",
       "    <tr>\n",
       "      <th>0</th>\n",
       "      <td>2539329</td>\n",
       "      <td>1</td>\n",
       "      <td>prior</td>\n",
       "      <td>1</td>\n",
       "      <td>2</td>\n",
       "      <td>8</td>\n",
       "      <td>NaN</td>\n",
       "      <td>196</td>\n",
       "      <td>1</td>\n",
       "      <td>0</td>\n",
       "      <td>...</td>\n",
       "      <td>Low spender</td>\n",
       "      <td>20.5</td>\n",
       "      <td>Non-frequent customer</td>\n",
       "      <td>Female</td>\n",
       "      <td>Alabama</td>\n",
       "      <td>31</td>\n",
       "      <td>2/17/2019</td>\n",
       "      <td>3</td>\n",
       "      <td>married</td>\n",
       "      <td>40423</td>\n",
       "    </tr>\n",
       "    <tr>\n",
       "      <th>1</th>\n",
       "      <td>2398795</td>\n",
       "      <td>1</td>\n",
       "      <td>prior</td>\n",
       "      <td>2</td>\n",
       "      <td>3</td>\n",
       "      <td>7</td>\n",
       "      <td>15.0</td>\n",
       "      <td>196</td>\n",
       "      <td>1</td>\n",
       "      <td>1</td>\n",
       "      <td>...</td>\n",
       "      <td>Low spender</td>\n",
       "      <td>20.5</td>\n",
       "      <td>Non-frequent customer</td>\n",
       "      <td>Female</td>\n",
       "      <td>Alabama</td>\n",
       "      <td>31</td>\n",
       "      <td>2/17/2019</td>\n",
       "      <td>3</td>\n",
       "      <td>married</td>\n",
       "      <td>40423</td>\n",
       "    </tr>\n",
       "    <tr>\n",
       "      <th>2</th>\n",
       "      <td>473747</td>\n",
       "      <td>1</td>\n",
       "      <td>prior</td>\n",
       "      <td>3</td>\n",
       "      <td>3</td>\n",
       "      <td>12</td>\n",
       "      <td>21.0</td>\n",
       "      <td>196</td>\n",
       "      <td>1</td>\n",
       "      <td>1</td>\n",
       "      <td>...</td>\n",
       "      <td>Low spender</td>\n",
       "      <td>20.5</td>\n",
       "      <td>Non-frequent customer</td>\n",
       "      <td>Female</td>\n",
       "      <td>Alabama</td>\n",
       "      <td>31</td>\n",
       "      <td>2/17/2019</td>\n",
       "      <td>3</td>\n",
       "      <td>married</td>\n",
       "      <td>40423</td>\n",
       "    </tr>\n",
       "    <tr>\n",
       "      <th>3</th>\n",
       "      <td>2254736</td>\n",
       "      <td>1</td>\n",
       "      <td>prior</td>\n",
       "      <td>4</td>\n",
       "      <td>4</td>\n",
       "      <td>7</td>\n",
       "      <td>29.0</td>\n",
       "      <td>196</td>\n",
       "      <td>1</td>\n",
       "      <td>1</td>\n",
       "      <td>...</td>\n",
       "      <td>Low spender</td>\n",
       "      <td>20.5</td>\n",
       "      <td>Non-frequent customer</td>\n",
       "      <td>Female</td>\n",
       "      <td>Alabama</td>\n",
       "      <td>31</td>\n",
       "      <td>2/17/2019</td>\n",
       "      <td>3</td>\n",
       "      <td>married</td>\n",
       "      <td>40423</td>\n",
       "    </tr>\n",
       "    <tr>\n",
       "      <th>4</th>\n",
       "      <td>431534</td>\n",
       "      <td>1</td>\n",
       "      <td>prior</td>\n",
       "      <td>5</td>\n",
       "      <td>4</td>\n",
       "      <td>15</td>\n",
       "      <td>28.0</td>\n",
       "      <td>196</td>\n",
       "      <td>1</td>\n",
       "      <td>1</td>\n",
       "      <td>...</td>\n",
       "      <td>Low spender</td>\n",
       "      <td>20.5</td>\n",
       "      <td>Non-frequent customer</td>\n",
       "      <td>Female</td>\n",
       "      <td>Alabama</td>\n",
       "      <td>31</td>\n",
       "      <td>2/17/2019</td>\n",
       "      <td>3</td>\n",
       "      <td>married</td>\n",
       "      <td>40423</td>\n",
       "    </tr>\n",
       "  </tbody>\n",
       "</table>\n",
       "<p>5 rows × 34 columns</p>\n",
       "</div>"
      ],
      "text/plain": [
       "   order_id  user_id eval_set  order_number  orders_day_of_week  order_hour  \\\n",
       "0   2539329        1    prior             1                   2           8   \n",
       "1   2398795        1    prior             2                   3           7   \n",
       "2    473747        1    prior             3                   3          12   \n",
       "3   2254736        1    prior             4                   4           7   \n",
       "4    431534        1    prior             5                   4          15   \n",
       "\n",
       "   days_since_prior_order  product_id  add_to_cart_order  reordered  ...  \\\n",
       "0                     NaN         196                  1          0  ...   \n",
       "1                    15.0         196                  1          1  ...   \n",
       "2                    21.0         196                  1          1  ...   \n",
       "3                    29.0         196                  1          1  ...   \n",
       "4                    28.0         196                  1          1  ...   \n",
       "\n",
       "   spending_flag median_days         frequency_flag  gender    state age  \\\n",
       "0    Low spender        20.5  Non-frequent customer  Female  Alabama  31   \n",
       "1    Low spender        20.5  Non-frequent customer  Female  Alabama  31   \n",
       "2    Low spender        20.5  Non-frequent customer  Female  Alabama  31   \n",
       "3    Low spender        20.5  Non-frequent customer  Female  Alabama  31   \n",
       "4    Low spender        20.5  Non-frequent customer  Female  Alabama  31   \n",
       "\n",
       "  date_joined number_of_dependents marital_status income  \n",
       "0   2/17/2019                    3        married  40423  \n",
       "1   2/17/2019                    3        married  40423  \n",
       "2   2/17/2019                    3        married  40423  \n",
       "3   2/17/2019                    3        married  40423  \n",
       "4   2/17/2019                    3        married  40423  \n",
       "\n",
       "[5 rows x 34 columns]"
      ]
     },
     "execution_count": 7,
     "metadata": {},
     "output_type": "execute_result"
    }
   ],
   "source": [
    "ords_prods_custs.head()"
   ]
  },
  {
   "cell_type": "markdown",
   "id": "51e752cb",
   "metadata": {},
   "source": [
    "PII removed"
   ]
  },
  {
   "cell_type": "markdown",
   "id": "78bfffb9",
   "metadata": {},
   "source": [
    "## Create Regional Segmentation of Data (Step 3)"
   ]
  },
  {
   "cell_type": "code",
   "execution_count": 8,
   "id": "1862bdcf",
   "metadata": {},
   "outputs": [],
   "source": [
    "# Creating Region Sets\n",
    "Northeast = ['Maine', 'New Hampshire', 'Vermont', 'Massachusetts', 'Rhode Island', 'Connecticut', 'New York', 'Pennsylvania', 'New Jersey']\n",
    "Midwest = ['Wisconsin', 'Michigan', 'Illinois', 'Indiana', 'Ohio', 'North Dakota', 'South Dakota', 'Nebraska', 'Kansas', 'Minnesota', 'Iowa', 'Missouri']\n",
    "South = ['Delaware', 'Maryland', 'District of Columbia', 'Virginia', 'West Virginia', 'North Carolina', 'South Carolina', 'Georgia', 'Florida', 'Kentucky', 'Tennessee', 'Mississippi', 'Alabama', 'Oklahoma', 'Texas', 'Arkansas', 'Louisiana']\n",
    "West = ['Idaho', 'Montana', 'Wyoming', 'Nevada', 'Utah', 'Colorado', 'Arizona', 'New Mexico', 'Alaska', 'Washington', 'Oregon', 'California', 'Hawaii']"
   ]
  },
  {
   "cell_type": "code",
   "execution_count": 9,
   "id": "e42eb0ce",
   "metadata": {},
   "outputs": [],
   "source": [
    "# assigning states in the state column to the previously created regions\n",
    "ords_prods_custs.loc[ords_prods_custs['state'].isin(Northeast), 'region'] = 'Northeast'"
   ]
  },
  {
   "cell_type": "code",
   "execution_count": 10,
   "id": "3a63e5cb",
   "metadata": {},
   "outputs": [],
   "source": [
    "ords_prods_custs.loc[ords_prods_custs['state'].isin(Midwest), 'region'] = 'Midwest'"
   ]
  },
  {
   "cell_type": "code",
   "execution_count": 11,
   "id": "1eaffa56",
   "metadata": {},
   "outputs": [],
   "source": [
    "ords_prods_custs.loc[ords_prods_custs['state'].isin(South), 'region'] = 'South'"
   ]
  },
  {
   "cell_type": "code",
   "execution_count": 12,
   "id": "8f4fa4f7",
   "metadata": {},
   "outputs": [],
   "source": [
    "ords_prods_custs.loc[ords_prods_custs['state'].isin(West), 'region'] = 'West'"
   ]
  },
  {
   "cell_type": "code",
   "execution_count": 13,
   "id": "734e5dd2",
   "metadata": {},
   "outputs": [
    {
     "data": {
      "text/plain": [
       "South        10801195\n",
       "West          8300141\n",
       "Midwest       7603550\n",
       "Northeast     5728144\n",
       "Name: region, dtype: int64"
      ]
     },
     "execution_count": 13,
     "metadata": {},
     "output_type": "execute_result"
    }
   ],
   "source": [
    "# Confirm outcome\n",
    "ords_prods_custs['region'].value_counts(dropna = False)"
   ]
  },
  {
   "cell_type": "code",
   "execution_count": 14,
   "id": "f20b2fd4",
   "metadata": {},
   "outputs": [
    {
     "data": {
      "text/html": [
       "<div>\n",
       "<style scoped>\n",
       "    .dataframe tbody tr th:only-of-type {\n",
       "        vertical-align: middle;\n",
       "    }\n",
       "\n",
       "    .dataframe tbody tr th {\n",
       "        vertical-align: top;\n",
       "    }\n",
       "\n",
       "    .dataframe thead th {\n",
       "        text-align: right;\n",
       "    }\n",
       "</style>\n",
       "<table border=\"1\" class=\"dataframe\">\n",
       "  <thead>\n",
       "    <tr style=\"text-align: right;\">\n",
       "      <th></th>\n",
       "      <th>order_id</th>\n",
       "      <th>user_id</th>\n",
       "      <th>eval_set</th>\n",
       "      <th>order_number</th>\n",
       "      <th>orders_day_of_week</th>\n",
       "      <th>order_hour</th>\n",
       "      <th>days_since_prior_order</th>\n",
       "      <th>product_id</th>\n",
       "      <th>add_to_cart_order</th>\n",
       "      <th>reordered</th>\n",
       "      <th>...</th>\n",
       "      <th>median_days</th>\n",
       "      <th>frequency_flag</th>\n",
       "      <th>gender</th>\n",
       "      <th>state</th>\n",
       "      <th>age</th>\n",
       "      <th>date_joined</th>\n",
       "      <th>number_of_dependents</th>\n",
       "      <th>marital_status</th>\n",
       "      <th>income</th>\n",
       "      <th>region</th>\n",
       "    </tr>\n",
       "  </thead>\n",
       "  <tbody>\n",
       "    <tr>\n",
       "      <th>0</th>\n",
       "      <td>2539329</td>\n",
       "      <td>1</td>\n",
       "      <td>prior</td>\n",
       "      <td>1</td>\n",
       "      <td>2</td>\n",
       "      <td>8</td>\n",
       "      <td>NaN</td>\n",
       "      <td>196</td>\n",
       "      <td>1</td>\n",
       "      <td>0</td>\n",
       "      <td>...</td>\n",
       "      <td>20.5</td>\n",
       "      <td>Non-frequent customer</td>\n",
       "      <td>Female</td>\n",
       "      <td>Alabama</td>\n",
       "      <td>31</td>\n",
       "      <td>2/17/2019</td>\n",
       "      <td>3</td>\n",
       "      <td>married</td>\n",
       "      <td>40423</td>\n",
       "      <td>South</td>\n",
       "    </tr>\n",
       "    <tr>\n",
       "      <th>1</th>\n",
       "      <td>2398795</td>\n",
       "      <td>1</td>\n",
       "      <td>prior</td>\n",
       "      <td>2</td>\n",
       "      <td>3</td>\n",
       "      <td>7</td>\n",
       "      <td>15.0</td>\n",
       "      <td>196</td>\n",
       "      <td>1</td>\n",
       "      <td>1</td>\n",
       "      <td>...</td>\n",
       "      <td>20.5</td>\n",
       "      <td>Non-frequent customer</td>\n",
       "      <td>Female</td>\n",
       "      <td>Alabama</td>\n",
       "      <td>31</td>\n",
       "      <td>2/17/2019</td>\n",
       "      <td>3</td>\n",
       "      <td>married</td>\n",
       "      <td>40423</td>\n",
       "      <td>South</td>\n",
       "    </tr>\n",
       "    <tr>\n",
       "      <th>2</th>\n",
       "      <td>473747</td>\n",
       "      <td>1</td>\n",
       "      <td>prior</td>\n",
       "      <td>3</td>\n",
       "      <td>3</td>\n",
       "      <td>12</td>\n",
       "      <td>21.0</td>\n",
       "      <td>196</td>\n",
       "      <td>1</td>\n",
       "      <td>1</td>\n",
       "      <td>...</td>\n",
       "      <td>20.5</td>\n",
       "      <td>Non-frequent customer</td>\n",
       "      <td>Female</td>\n",
       "      <td>Alabama</td>\n",
       "      <td>31</td>\n",
       "      <td>2/17/2019</td>\n",
       "      <td>3</td>\n",
       "      <td>married</td>\n",
       "      <td>40423</td>\n",
       "      <td>South</td>\n",
       "    </tr>\n",
       "    <tr>\n",
       "      <th>3</th>\n",
       "      <td>2254736</td>\n",
       "      <td>1</td>\n",
       "      <td>prior</td>\n",
       "      <td>4</td>\n",
       "      <td>4</td>\n",
       "      <td>7</td>\n",
       "      <td>29.0</td>\n",
       "      <td>196</td>\n",
       "      <td>1</td>\n",
       "      <td>1</td>\n",
       "      <td>...</td>\n",
       "      <td>20.5</td>\n",
       "      <td>Non-frequent customer</td>\n",
       "      <td>Female</td>\n",
       "      <td>Alabama</td>\n",
       "      <td>31</td>\n",
       "      <td>2/17/2019</td>\n",
       "      <td>3</td>\n",
       "      <td>married</td>\n",
       "      <td>40423</td>\n",
       "      <td>South</td>\n",
       "    </tr>\n",
       "    <tr>\n",
       "      <th>4</th>\n",
       "      <td>431534</td>\n",
       "      <td>1</td>\n",
       "      <td>prior</td>\n",
       "      <td>5</td>\n",
       "      <td>4</td>\n",
       "      <td>15</td>\n",
       "      <td>28.0</td>\n",
       "      <td>196</td>\n",
       "      <td>1</td>\n",
       "      <td>1</td>\n",
       "      <td>...</td>\n",
       "      <td>20.5</td>\n",
       "      <td>Non-frequent customer</td>\n",
       "      <td>Female</td>\n",
       "      <td>Alabama</td>\n",
       "      <td>31</td>\n",
       "      <td>2/17/2019</td>\n",
       "      <td>3</td>\n",
       "      <td>married</td>\n",
       "      <td>40423</td>\n",
       "      <td>South</td>\n",
       "    </tr>\n",
       "  </tbody>\n",
       "</table>\n",
       "<p>5 rows × 35 columns</p>\n",
       "</div>"
      ],
      "text/plain": [
       "   order_id  user_id eval_set  order_number  orders_day_of_week  order_hour  \\\n",
       "0   2539329        1    prior             1                   2           8   \n",
       "1   2398795        1    prior             2                   3           7   \n",
       "2    473747        1    prior             3                   3          12   \n",
       "3   2254736        1    prior             4                   4           7   \n",
       "4    431534        1    prior             5                   4          15   \n",
       "\n",
       "   days_since_prior_order  product_id  add_to_cart_order  reordered  ...  \\\n",
       "0                     NaN         196                  1          0  ...   \n",
       "1                    15.0         196                  1          1  ...   \n",
       "2                    21.0         196                  1          1  ...   \n",
       "3                    29.0         196                  1          1  ...   \n",
       "4                    28.0         196                  1          1  ...   \n",
       "\n",
       "   median_days         frequency_flag  gender    state  age date_joined  \\\n",
       "0         20.5  Non-frequent customer  Female  Alabama   31   2/17/2019   \n",
       "1         20.5  Non-frequent customer  Female  Alabama   31   2/17/2019   \n",
       "2         20.5  Non-frequent customer  Female  Alabama   31   2/17/2019   \n",
       "3         20.5  Non-frequent customer  Female  Alabama   31   2/17/2019   \n",
       "4         20.5  Non-frequent customer  Female  Alabama   31   2/17/2019   \n",
       "\n",
       "  number_of_dependents marital_status income region  \n",
       "0                    3        married  40423  South  \n",
       "1                    3        married  40423  South  \n",
       "2                    3        married  40423  South  \n",
       "3                    3        married  40423  South  \n",
       "4                    3        married  40423  South  \n",
       "\n",
       "[5 rows x 35 columns]"
      ]
     },
     "execution_count": 14,
     "metadata": {},
     "output_type": "execute_result"
    }
   ],
   "source": [
    "# Checking column\n",
    "ords_prods_custs.head()"
   ]
  },
  {
   "cell_type": "code",
   "execution_count": 15,
   "id": "8fb62f02",
   "metadata": {},
   "outputs": [],
   "source": [
    "# Creating cross tab on regions and spending flags\n",
    "crosstab = pd.crosstab(ords_prods_custs['region'], ords_prods_custs['spending_flag'], dropna = False)"
   ]
  },
  {
   "cell_type": "code",
   "execution_count": 16,
   "id": "c5996a2c",
   "metadata": {},
   "outputs": [
    {
     "data": {
      "text/html": [
       "<div>\n",
       "<style scoped>\n",
       "    .dataframe tbody tr th:only-of-type {\n",
       "        vertical-align: middle;\n",
       "    }\n",
       "\n",
       "    .dataframe tbody tr th {\n",
       "        vertical-align: top;\n",
       "    }\n",
       "\n",
       "    .dataframe thead th {\n",
       "        text-align: right;\n",
       "    }\n",
       "</style>\n",
       "<table border=\"1\" class=\"dataframe\">\n",
       "  <thead>\n",
       "    <tr style=\"text-align: right;\">\n",
       "      <th>spending_flag</th>\n",
       "      <th>High spender</th>\n",
       "      <th>Low spender</th>\n",
       "    </tr>\n",
       "    <tr>\n",
       "      <th>region</th>\n",
       "      <th></th>\n",
       "      <th></th>\n",
       "    </tr>\n",
       "  </thead>\n",
       "  <tbody>\n",
       "    <tr>\n",
       "      <th>Midwest</th>\n",
       "      <td>156125</td>\n",
       "      <td>7447425</td>\n",
       "    </tr>\n",
       "    <tr>\n",
       "      <th>Northeast</th>\n",
       "      <td>108342</td>\n",
       "      <td>5619802</td>\n",
       "    </tr>\n",
       "    <tr>\n",
       "      <th>South</th>\n",
       "      <td>210180</td>\n",
       "      <td>10591015</td>\n",
       "    </tr>\n",
       "    <tr>\n",
       "      <th>West</th>\n",
       "      <td>160807</td>\n",
       "      <td>8139334</td>\n",
       "    </tr>\n",
       "  </tbody>\n",
       "</table>\n",
       "</div>"
      ],
      "text/plain": [
       "spending_flag  High spender  Low spender\n",
       "region                                  \n",
       "Midwest              156125      7447425\n",
       "Northeast            108342      5619802\n",
       "South                210180     10591015\n",
       "West                 160807      8139334"
      ]
     },
     "execution_count": 16,
     "metadata": {},
     "output_type": "execute_result"
    }
   ],
   "source": [
    "crosstab"
   ]
  },
  {
   "cell_type": "markdown",
   "id": "9644db7b",
   "metadata": {},
   "source": [
    "## Create an exclusion flag for low-activity customers (Step 4)"
   ]
  },
  {
   "cell_type": "code",
   "execution_count": 17,
   "id": "457a395b",
   "metadata": {},
   "outputs": [],
   "source": [
    "ords_prods_custs.loc[ords_prods_custs['max_order'] < 5, 'activity_flag'] = 'low-activity customer'"
   ]
  },
  {
   "cell_type": "code",
   "execution_count": 18,
   "id": "8aeb10cd",
   "metadata": {},
   "outputs": [],
   "source": [
    "ords_prods_custs.loc[ords_prods_custs['max_order'] >= 5, 'activity_flag'] = 'high-activity customer'"
   ]
  },
  {
   "cell_type": "code",
   "execution_count": 19,
   "id": "2701b847",
   "metadata": {},
   "outputs": [
    {
     "data": {
      "text/plain": [
       "high-activity customer    30991542\n",
       "low-activity customer      1441488\n",
       "Name: activity_flag, dtype: int64"
      ]
     },
     "execution_count": 19,
     "metadata": {},
     "output_type": "execute_result"
    }
   ],
   "source": [
    "ords_prods_custs['activity_flag'].value_counts(dropna = False)"
   ]
  },
  {
   "cell_type": "code",
   "execution_count": 20,
   "id": "c841f9cb",
   "metadata": {},
   "outputs": [],
   "source": [
    "# Creating a subset of low activity customers to export\n",
    "low_activity_customer = ords_prods_custs[ords_prods_custs['activity_flag'] =='low-activity customer']"
   ]
  },
  {
   "cell_type": "code",
   "execution_count": 21,
   "id": "a185128f",
   "metadata": {},
   "outputs": [
    {
     "data": {
      "text/html": [
       "<div>\n",
       "<style scoped>\n",
       "    .dataframe tbody tr th:only-of-type {\n",
       "        vertical-align: middle;\n",
       "    }\n",
       "\n",
       "    .dataframe tbody tr th {\n",
       "        vertical-align: top;\n",
       "    }\n",
       "\n",
       "    .dataframe thead th {\n",
       "        text-align: right;\n",
       "    }\n",
       "</style>\n",
       "<table border=\"1\" class=\"dataframe\">\n",
       "  <thead>\n",
       "    <tr style=\"text-align: right;\">\n",
       "      <th></th>\n",
       "      <th>order_id</th>\n",
       "      <th>user_id</th>\n",
       "      <th>eval_set</th>\n",
       "      <th>order_number</th>\n",
       "      <th>orders_day_of_week</th>\n",
       "      <th>order_hour</th>\n",
       "      <th>days_since_prior_order</th>\n",
       "      <th>product_id</th>\n",
       "      <th>add_to_cart_order</th>\n",
       "      <th>reordered</th>\n",
       "      <th>...</th>\n",
       "      <th>frequency_flag</th>\n",
       "      <th>gender</th>\n",
       "      <th>state</th>\n",
       "      <th>age</th>\n",
       "      <th>date_joined</th>\n",
       "      <th>number_of_dependents</th>\n",
       "      <th>marital_status</th>\n",
       "      <th>income</th>\n",
       "      <th>region</th>\n",
       "      <th>activity_flag</th>\n",
       "    </tr>\n",
       "  </thead>\n",
       "  <tbody>\n",
       "    <tr>\n",
       "      <th>1513</th>\n",
       "      <td>520620</td>\n",
       "      <td>120</td>\n",
       "      <td>prior</td>\n",
       "      <td>1</td>\n",
       "      <td>3</td>\n",
       "      <td>11</td>\n",
       "      <td>NaN</td>\n",
       "      <td>196</td>\n",
       "      <td>2</td>\n",
       "      <td>0</td>\n",
       "      <td>...</td>\n",
       "      <td>Regular customer</td>\n",
       "      <td>Female</td>\n",
       "      <td>Kentucky</td>\n",
       "      <td>54</td>\n",
       "      <td>3/2/2017</td>\n",
       "      <td>2</td>\n",
       "      <td>married</td>\n",
       "      <td>99219</td>\n",
       "      <td>South</td>\n",
       "      <td>low-activity customer</td>\n",
       "    </tr>\n",
       "    <tr>\n",
       "      <th>1514</th>\n",
       "      <td>3273029</td>\n",
       "      <td>120</td>\n",
       "      <td>prior</td>\n",
       "      <td>3</td>\n",
       "      <td>2</td>\n",
       "      <td>8</td>\n",
       "      <td>19.0</td>\n",
       "      <td>196</td>\n",
       "      <td>2</td>\n",
       "      <td>1</td>\n",
       "      <td>...</td>\n",
       "      <td>Regular customer</td>\n",
       "      <td>Female</td>\n",
       "      <td>Kentucky</td>\n",
       "      <td>54</td>\n",
       "      <td>3/2/2017</td>\n",
       "      <td>2</td>\n",
       "      <td>married</td>\n",
       "      <td>99219</td>\n",
       "      <td>South</td>\n",
       "      <td>low-activity customer</td>\n",
       "    </tr>\n",
       "    <tr>\n",
       "      <th>1515</th>\n",
       "      <td>520620</td>\n",
       "      <td>120</td>\n",
       "      <td>prior</td>\n",
       "      <td>1</td>\n",
       "      <td>3</td>\n",
       "      <td>11</td>\n",
       "      <td>NaN</td>\n",
       "      <td>46149</td>\n",
       "      <td>1</td>\n",
       "      <td>0</td>\n",
       "      <td>...</td>\n",
       "      <td>Regular customer</td>\n",
       "      <td>Female</td>\n",
       "      <td>Kentucky</td>\n",
       "      <td>54</td>\n",
       "      <td>3/2/2017</td>\n",
       "      <td>2</td>\n",
       "      <td>married</td>\n",
       "      <td>99219</td>\n",
       "      <td>South</td>\n",
       "      <td>low-activity customer</td>\n",
       "    </tr>\n",
       "    <tr>\n",
       "      <th>1516</th>\n",
       "      <td>3273029</td>\n",
       "      <td>120</td>\n",
       "      <td>prior</td>\n",
       "      <td>3</td>\n",
       "      <td>2</td>\n",
       "      <td>8</td>\n",
       "      <td>19.0</td>\n",
       "      <td>46149</td>\n",
       "      <td>1</td>\n",
       "      <td>1</td>\n",
       "      <td>...</td>\n",
       "      <td>Regular customer</td>\n",
       "      <td>Female</td>\n",
       "      <td>Kentucky</td>\n",
       "      <td>54</td>\n",
       "      <td>3/2/2017</td>\n",
       "      <td>2</td>\n",
       "      <td>married</td>\n",
       "      <td>99219</td>\n",
       "      <td>South</td>\n",
       "      <td>low-activity customer</td>\n",
       "    </tr>\n",
       "    <tr>\n",
       "      <th>1517</th>\n",
       "      <td>520620</td>\n",
       "      <td>120</td>\n",
       "      <td>prior</td>\n",
       "      <td>1</td>\n",
       "      <td>3</td>\n",
       "      <td>11</td>\n",
       "      <td>NaN</td>\n",
       "      <td>26348</td>\n",
       "      <td>3</td>\n",
       "      <td>0</td>\n",
       "      <td>...</td>\n",
       "      <td>Regular customer</td>\n",
       "      <td>Female</td>\n",
       "      <td>Kentucky</td>\n",
       "      <td>54</td>\n",
       "      <td>3/2/2017</td>\n",
       "      <td>2</td>\n",
       "      <td>married</td>\n",
       "      <td>99219</td>\n",
       "      <td>South</td>\n",
       "      <td>low-activity customer</td>\n",
       "    </tr>\n",
       "  </tbody>\n",
       "</table>\n",
       "<p>5 rows × 36 columns</p>\n",
       "</div>"
      ],
      "text/plain": [
       "      order_id  user_id eval_set  order_number  orders_day_of_week  \\\n",
       "1513    520620      120    prior             1                   3   \n",
       "1514   3273029      120    prior             3                   2   \n",
       "1515    520620      120    prior             1                   3   \n",
       "1516   3273029      120    prior             3                   2   \n",
       "1517    520620      120    prior             1                   3   \n",
       "\n",
       "      order_hour  days_since_prior_order  product_id  add_to_cart_order  \\\n",
       "1513          11                     NaN         196                  2   \n",
       "1514           8                    19.0         196                  2   \n",
       "1515          11                     NaN       46149                  1   \n",
       "1516           8                    19.0       46149                  1   \n",
       "1517          11                     NaN       26348                  3   \n",
       "\n",
       "      reordered  ...    frequency_flag  gender     state  age  date_joined  \\\n",
       "1513          0  ...  Regular customer  Female  Kentucky   54     3/2/2017   \n",
       "1514          1  ...  Regular customer  Female  Kentucky   54     3/2/2017   \n",
       "1515          0  ...  Regular customer  Female  Kentucky   54     3/2/2017   \n",
       "1516          1  ...  Regular customer  Female  Kentucky   54     3/2/2017   \n",
       "1517          0  ...  Regular customer  Female  Kentucky   54     3/2/2017   \n",
       "\n",
       "     number_of_dependents marital_status income region          activity_flag  \n",
       "1513                    2        married  99219  South  low-activity customer  \n",
       "1514                    2        married  99219  South  low-activity customer  \n",
       "1515                    2        married  99219  South  low-activity customer  \n",
       "1516                    2        married  99219  South  low-activity customer  \n",
       "1517                    2        married  99219  South  low-activity customer  \n",
       "\n",
       "[5 rows x 36 columns]"
      ]
     },
     "execution_count": 21,
     "metadata": {},
     "output_type": "execute_result"
    }
   ],
   "source": [
    "low_activity_customer.head()"
   ]
  },
  {
   "cell_type": "code",
   "execution_count": 22,
   "id": "b1da6c9f",
   "metadata": {},
   "outputs": [
    {
     "data": {
      "text/plain": [
       "(1441488, 36)"
      ]
     },
     "execution_count": 22,
     "metadata": {},
     "output_type": "execute_result"
    }
   ],
   "source": [
    "low_activity_customer.shape"
   ]
  },
  {
   "cell_type": "code",
   "execution_count": 24,
   "id": "9a9f6596",
   "metadata": {},
   "outputs": [],
   "source": [
    "low_activity_customer.to_pickle(os.path.join(path, '02 Data', 'Prepared Data', 'low_activity_customers.pkl'))"
   ]
  },
  {
   "cell_type": "code",
   "execution_count": 25,
   "id": "d6f82d2f",
   "metadata": {},
   "outputs": [],
   "source": [
    "# Creating a subset of high activity customers to export\n",
    "high_activity_customer = ords_prods_custs[ords_prods_custs['activity_flag'] =='high-activity customer']"
   ]
  },
  {
   "cell_type": "code",
   "execution_count": 26,
   "id": "20ab71d3",
   "metadata": {},
   "outputs": [
    {
     "data": {
      "text/plain": [
       "(30991542, 36)"
      ]
     },
     "execution_count": 26,
     "metadata": {},
     "output_type": "execute_result"
    }
   ],
   "source": [
    "high_activity_customer.shape"
   ]
  },
  {
   "cell_type": "code",
   "execution_count": 27,
   "id": "5da84a41",
   "metadata": {},
   "outputs": [],
   "source": [
    "high_activity_customer.to_pickle(os.path.join(path, '02 Data', 'Prepared Data', 'high_activity_customers.pkl'))"
   ]
  },
  {
   "cell_type": "markdown",
   "id": "93fb7903",
   "metadata": {},
   "source": [
    "See Second Python Kernel for Continued Assignment"
   ]
  }
 ],
 "metadata": {
  "kernelspec": {
   "display_name": "Python 3 (ipykernel)",
   "language": "python",
   "name": "python3"
  },
  "language_info": {
   "codemirror_mode": {
    "name": "ipython",
    "version": 3
   },
   "file_extension": ".py",
   "mimetype": "text/x-python",
   "name": "python",
   "nbconvert_exporter": "python",
   "pygments_lexer": "ipython3",
   "version": "3.10.9"
  }
 },
 "nbformat": 4,
 "nbformat_minor": 5
}
