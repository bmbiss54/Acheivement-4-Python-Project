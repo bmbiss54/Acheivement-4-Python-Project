{
 "cells": [
  {
   "cell_type": "markdown",
   "id": "41301a50",
   "metadata": {},
   "source": [
    "#### Contents"
   ]
  },
  {
   "cell_type": "markdown",
   "id": "0dda6f32",
   "metadata": {},
   "source": [
    "#### Reviewing Data Types"
   ]
  },
  {
   "cell_type": "markdown",
   "id": "5921e02c",
   "metadata": {},
   "source": [
    "# 01. Importing Libraries"
   ]
  },
  {
   "cell_type": "code",
   "execution_count": 1,
   "id": "67cf8e3e",
   "metadata": {},
   "outputs": [],
   "source": [
    "# Import libraries\n",
    "import pandas as pd\n",
    "import numpy as np\n",
    "import os"
   ]
  },
  {
   "cell_type": "markdown",
   "id": "c44244a5",
   "metadata": {},
   "source": [
    "# 02. Data Types"
   ]
  },
  {
   "cell_type": "code",
   "execution_count": 7,
   "id": "f2f956f1",
   "metadata": {},
   "outputs": [
    {
     "data": {
      "text/plain": [
       "100"
      ]
     },
     "execution_count": 7,
     "metadata": {},
     "output_type": "execute_result"
    }
   ],
   "source": [
    "99+1"
   ]
  },
  {
   "cell_type": "code",
   "execution_count": 5,
   "id": "bd5f762e",
   "metadata": {},
   "outputs": [
    {
     "data": {
      "text/plain": [
       "100"
      ]
     },
     "execution_count": 5,
     "metadata": {},
     "output_type": "execute_result"
    }
   ],
   "source": [
    "50+50"
   ]
  },
  {
   "cell_type": "code",
   "execution_count": 6,
   "id": "83f0a11c",
   "metadata": {},
   "outputs": [
    {
     "data": {
      "text/plain": [
       "100"
      ]
     },
     "execution_count": 6,
     "metadata": {},
     "output_type": "execute_result"
    }
   ],
   "source": [
    "1000-900"
   ]
  },
  {
   "cell_type": "code",
   "execution_count": 8,
   "id": "635d128b",
   "metadata": {},
   "outputs": [],
   "source": [
    "x=2.354"
   ]
  },
  {
   "cell_type": "code",
   "execution_count": 9,
   "id": "298adab9",
   "metadata": {},
   "outputs": [],
   "source": [
    "y=5.972"
   ]
  },
  {
   "cell_type": "code",
   "execution_count": 10,
   "id": "4a77de18",
   "metadata": {},
   "outputs": [
    {
     "data": {
      "text/plain": [
       "0.3941728064300067"
      ]
     },
     "execution_count": 10,
     "metadata": {},
     "output_type": "execute_result"
    }
   ],
   "source": [
    "x/y"
   ]
  },
  {
   "cell_type": "code",
   "execution_count": 11,
   "id": "a07ab64e",
   "metadata": {},
   "outputs": [],
   "source": [
    "x='Hap'"
   ]
  },
  {
   "cell_type": "code",
   "execution_count": 12,
   "id": "fd78de40",
   "metadata": {},
   "outputs": [],
   "source": [
    "y='py'"
   ]
  },
  {
   "cell_type": "code",
   "execution_count": 13,
   "id": "0752e725",
   "metadata": {},
   "outputs": [
    {
     "data": {
      "text/plain": [
       "'Happy'"
      ]
     },
     "execution_count": 13,
     "metadata": {},
     "output_type": "execute_result"
    }
   ],
   "source": [
    "x+y"
   ]
  },
  {
   "cell_type": "code",
   "execution_count": 14,
   "id": "f04e1a5e",
   "metadata": {},
   "outputs": [],
   "source": [
    "x='How was your day?'"
   ]
  },
  {
   "cell_type": "code",
   "execution_count": 18,
   "id": "3cab48d3",
   "metadata": {},
   "outputs": [],
   "source": [
    "y=' My day was great,'"
   ]
  },
  {
   "cell_type": "code",
   "execution_count": 19,
   "id": "aec3f891",
   "metadata": {},
   "outputs": [],
   "source": [
    "z=' how about you?'"
   ]
  },
  {
   "cell_type": "code",
   "execution_count": 20,
   "id": "24a9b4c9",
   "metadata": {},
   "outputs": [
    {
     "data": {
      "text/plain": [
       "'How was your day? My day was great, how about you?'"
      ]
     },
     "execution_count": 20,
     "metadata": {},
     "output_type": "execute_result"
    }
   ],
   "source": [
    "x+y+z"
   ]
  },
  {
   "cell_type": "code",
   "execution_count": 21,
   "id": "f1848a07",
   "metadata": {},
   "outputs": [
    {
     "data": {
      "text/plain": [
       "'How was your day?How was your day?How was your day?How was your day?How was your day?How was your day?How was your day?How was your day?How was your day?How was your day?How was your day?How was your day?How was your day?How was your day?How was your day?How was your day?How was your day?How was your day?How was your day?How was your day?How was your day?How was your day?How was your day?How was your day?How was your day?How was your day?How was your day?How was your day?How was your day?How was your day?How was your day?How was your day?How was your day?How was your day?How was your day?How was your day?How was your day?How was your day?How was your day?How was your day?How was your day?How was your day?How was your day?How was your day?How was your day?How was your day?How was your day?How was your day?How was your day?How was your day?How was your day?How was your day?How was your day?How was your day?How was your day?How was your day?How was your day?How was your day?How was your day?How was your day?How was your day?How was your day?How was your day?How was your day?How was your day?How was your day?How was your day?How was your day?How was your day?How was your day?How was your day?How was your day?How was your day?How was your day?How was your day?How was your day?How was your day?How was your day?How was your day?How was your day?How was your day?How was your day?How was your day?How was your day?How was your day?How was your day?How was your day?How was your day?How was your day?How was your day?How was your day?How was your day?How was your day?How was your day?How was your day?How was your day?How was your day?How was your day?How was your day?How was your day?'"
      ]
     },
     "execution_count": 21,
     "metadata": {},
     "output_type": "execute_result"
    }
   ],
   "source": [
    "x*100"
   ]
  },
  {
   "cell_type": "code",
   "execution_count": null,
   "id": "24e521a2",
   "metadata": {},
   "outputs": [],
   "source": []
  }
 ],
 "metadata": {
  "kernelspec": {
   "display_name": "Python 3 (ipykernel)",
   "language": "python",
   "name": "python3"
  },
  "language_info": {
   "codemirror_mode": {
    "name": "ipython",
    "version": 3
   },
   "file_extension": ".py",
   "mimetype": "text/x-python",
   "name": "python",
   "nbconvert_exporter": "python",
   "pygments_lexer": "ipython3",
   "version": "3.10.9"
  }
 },
 "nbformat": 4,
 "nbformat_minor": 5
}
